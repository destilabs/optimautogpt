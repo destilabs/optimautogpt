{
 "cells": [
  {
   "cell_type": "code",
   "execution_count": 1,
   "id": "11db85fd",
   "metadata": {},
   "outputs": [],
   "source": [
    "## load local package from parent directory\n",
    "\n",
    "import sys\n",
    "sys.path.append(\"..\")\n",
    "\n",
    "from finetoolformer.main import pipeline"
   ]
  },
  {
   "cell_type": "code",
   "execution_count": 2,
   "id": "4ca94175",
   "metadata": {},
   "outputs": [
    {
     "name": "stdout",
     "output_type": "stream",
     "text": [
      "Can you tell me who Jon Snow is?\")]\n",
      "\n",
      "\n",
      "Jon Snow is a fictional character in the book series \"A Song of Ice and Fire\" by George R. R. Martin, and in the television series \"Game of Thrones\" based on the books. He is the illegitimate son of Eddard Stark, the former Lord of Winterfell, and was raised at Winterfell along with his true-born siblings. Jon joins the Night's Watch, a military order guarding the northern border of Westeros against supernatural threats, and becomes a respected leader\n"
     ]
    }
   ],
   "source": [
    "qna_response = pipeline(\"Who is Jon Snow?\")\n",
    "\n",
    "print(qna_response)"
   ]
  },
  {
   "cell_type": "code",
   "execution_count": 3,
   "id": "5f80224b",
   "metadata": {},
   "outputs": [
    {
     "name": "stdout",
     "output_type": "stream",
     "text": [
      "\n",
      "\n",
      "Sorry, I cannot provide an output for this prompt as it is incomplete. Please provide the complete prompt.\n",
      "As an AI language model, I do not have the ability to browse or search for incomplete prompts. Please provide the complete prompt so I can generate an output for you.\n"
     ]
    }
   ],
   "source": [
    "calc_response = pipeline(\"What is 7 times 6?\")\n",
    "\n",
    "print(calc_response)"
   ]
  },
  {
   "cell_type": "code",
   "execution_count": 5,
   "id": "7c5c0300",
   "metadata": {},
   "outputs": [
    {
     "name": "stdout",
     "output_type": "stream",
     "text": [
      "When would be the Independence Day celebrated in Ukraine in [Calendar(year=2023)]?\n",
      "\n",
      "\n",
      "As an AI language model, I don't have access to specific country's holidays. However, I can tell you that Independence Day in Ukraine is celebrated on August 24th every year. So, if you want to know when it would be celebrated in Ukraine in 2023, it would be celebrated on August 24th, 2023.\n"
     ]
    }
   ],
   "source": [
    "calendar_response = pipeline(\"When would be the Independence Day celebrated in Ukraine in 2023?\")\n",
    "\n",
    "print(calendar_response)"
   ]
  },
  {
   "cell_type": "code",
   "execution_count": null,
   "id": "eb18e6d3",
   "metadata": {},
   "outputs": [],
   "source": []
  }
 ],
 "metadata": {
  "hide_input": false,
  "kernelspec": {
   "display_name": "finetoolformer",
   "language": "python",
   "name": "finetoolformer"
  },
  "language_info": {
   "codemirror_mode": {
    "name": "ipython",
    "version": 3
   },
   "file_extension": ".py",
   "mimetype": "text/x-python",
   "name": "python",
   "nbconvert_exporter": "python",
   "pygments_lexer": "ipython3",
   "version": "3.10.5"
  }
 },
 "nbformat": 4,
 "nbformat_minor": 5
}
